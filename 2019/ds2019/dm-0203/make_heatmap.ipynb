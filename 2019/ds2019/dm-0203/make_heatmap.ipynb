{
 "cells": [
  {
   "cell_type": "markdown",
   "metadata": {},
   "source": [
    "## Example of displaying heatmap using folium"
   ]
  },
  {
   "cell_type": "markdown",
   "metadata": {},
   "source": [
    "### Import libraries  "
   ]
  },
  {
   "cell_type": "code",
   "execution_count": 1,
   "metadata": {},
   "outputs": [],
   "source": [
    "import pandas as pd\n",
    "import folium"
   ]
  },
  {
   "cell_type": "markdown",
   "metadata": {},
   "source": [
    "### Parameters"
   ]
  },
  {
   "cell_type": "code",
   "execution_count": 2,
   "metadata": {},
   "outputs": [],
   "source": [
    "csv_in = 'pop_move_H27_H28-utf8.csv'\n",
    "\n",
    "pd.options.display.max_rows = 999\n",
    "pd.options.display.max_columns = 999"
   ]
  },
  {
   "cell_type": "markdown",
   "metadata": {},
   "source": [
    "### Read CSV file"
   ]
  },
  {
   "cell_type": "code",
   "execution_count": 3,
   "metadata": {},
   "outputs": [
    {
     "name": "stdout",
     "output_type": "stream",
     "text": [
      "(69, 3)\n",
      "<class 'pandas.core.frame.DataFrame'>\n",
      "RangeIndex: 69 entries, 0 to 68\n",
      "Data columns (total 3 columns):\n",
      "都道府県    69 non-null object\n",
      "転入      69 non-null int64\n",
      "転出      69 non-null int64\n",
      "dtypes: int64(2), object(1)\n",
      "memory usage: 1.7+ KB\n",
      "None\n"
     ]
    },
    {
     "data": {
      "text/html": [
       "<div>\n",
       "<style scoped>\n",
       "    .dataframe tbody tr th:only-of-type {\n",
       "        vertical-align: middle;\n",
       "    }\n",
       "\n",
       "    .dataframe tbody tr th {\n",
       "        vertical-align: top;\n",
       "    }\n",
       "\n",
       "    .dataframe thead th {\n",
       "        text-align: right;\n",
       "    }\n",
       "</style>\n",
       "<table border=\"1\" class=\"dataframe\">\n",
       "  <thead>\n",
       "    <tr style=\"text-align: right;\">\n",
       "      <th></th>\n",
       "      <th>都道府県</th>\n",
       "      <th>転入</th>\n",
       "      <th>転出</th>\n",
       "    </tr>\n",
       "  </thead>\n",
       "  <tbody>\n",
       "    <tr>\n",
       "      <th>0</th>\n",
       "      <td>北海道</td>\n",
       "      <td>48544</td>\n",
       "      <td>55418</td>\n",
       "    </tr>\n",
       "    <tr>\n",
       "      <th>1</th>\n",
       "      <td>青森県</td>\n",
       "      <td>17061</td>\n",
       "      <td>23384</td>\n",
       "    </tr>\n",
       "    <tr>\n",
       "      <th>2</th>\n",
       "      <td>岩手県</td>\n",
       "      <td>17113</td>\n",
       "      <td>20983</td>\n",
       "    </tr>\n",
       "    <tr>\n",
       "      <th>3</th>\n",
       "      <td>宮城県</td>\n",
       "      <td>47124</td>\n",
       "      <td>47607</td>\n",
       "    </tr>\n",
       "    <tr>\n",
       "      <th>4</th>\n",
       "      <td>秋田県</td>\n",
       "      <td>11353</td>\n",
       "      <td>15751</td>\n",
       "    </tr>\n",
       "  </tbody>\n",
       "</table>\n",
       "</div>"
      ],
      "text/plain": [
       "  都道府県     転入     転出\n",
       "0  北海道  48544  55418\n",
       "1  青森県  17061  23384\n",
       "2  岩手県  17113  20983\n",
       "3  宮城県  47124  47607\n",
       "4  秋田県  11353  15751"
      ]
     },
     "metadata": {},
     "output_type": "display_data"
    }
   ],
   "source": [
    "df = pd.read_csv(csv_in, delimiter=',', skiprows=0, header=0)\n",
    "print(df.shape)\n",
    "print(df.info())\n",
    "display(df.head())\n",
    "#display(df)"
   ]
  },
  {
   "cell_type": "markdown",
   "metadata": {},
   "source": [
    "### Calculation of increase/decrease of population  "
   ]
  },
  {
   "cell_type": "code",
   "execution_count": 4,
   "metadata": {},
   "outputs": [
    {
     "data": {
      "text/html": [
       "<div>\n",
       "<style scoped>\n",
       "    .dataframe tbody tr th:only-of-type {\n",
       "        vertical-align: middle;\n",
       "    }\n",
       "\n",
       "    .dataframe tbody tr th {\n",
       "        vertical-align: top;\n",
       "    }\n",
       "\n",
       "    .dataframe thead th {\n",
       "        text-align: right;\n",
       "    }\n",
       "</style>\n",
       "<table border=\"1\" class=\"dataframe\">\n",
       "  <thead>\n",
       "    <tr style=\"text-align: right;\">\n",
       "      <th></th>\n",
       "      <th>都道府県</th>\n",
       "      <th>転入</th>\n",
       "      <th>転出</th>\n",
       "      <th>増減</th>\n",
       "    </tr>\n",
       "  </thead>\n",
       "  <tbody>\n",
       "    <tr>\n",
       "      <th>0</th>\n",
       "      <td>北海道</td>\n",
       "      <td>48544</td>\n",
       "      <td>55418</td>\n",
       "      <td>-6874</td>\n",
       "    </tr>\n",
       "    <tr>\n",
       "      <th>1</th>\n",
       "      <td>青森県</td>\n",
       "      <td>17061</td>\n",
       "      <td>23384</td>\n",
       "      <td>-6323</td>\n",
       "    </tr>\n",
       "    <tr>\n",
       "      <th>2</th>\n",
       "      <td>岩手県</td>\n",
       "      <td>17113</td>\n",
       "      <td>20983</td>\n",
       "      <td>-3870</td>\n",
       "    </tr>\n",
       "    <tr>\n",
       "      <th>3</th>\n",
       "      <td>宮城県</td>\n",
       "      <td>47124</td>\n",
       "      <td>47607</td>\n",
       "      <td>-483</td>\n",
       "    </tr>\n",
       "    <tr>\n",
       "      <th>4</th>\n",
       "      <td>秋田県</td>\n",
       "      <td>11353</td>\n",
       "      <td>15751</td>\n",
       "      <td>-4398</td>\n",
       "    </tr>\n",
       "  </tbody>\n",
       "</table>\n",
       "</div>"
      ],
      "text/plain": [
       "  都道府県     転入     転出    増減\n",
       "0  北海道  48544  55418 -6874\n",
       "1  青森県  17061  23384 -6323\n",
       "2  岩手県  17113  20983 -3870\n",
       "3  宮城県  47124  47607  -483\n",
       "4  秋田県  11353  15751 -4398"
      ]
     },
     "metadata": {},
     "output_type": "display_data"
    }
   ],
   "source": [
    "df['増減'] = df['転入'] - df['転出']\n",
    "display(df.head())"
   ]
  },
  {
   "cell_type": "markdown",
   "metadata": {},
   "source": [
    "### Drop lines other than Prefs  "
   ]
  },
  {
   "cell_type": "code",
   "execution_count": 5,
   "metadata": {},
   "outputs": [
    {
     "data": {
      "text/plain": [
       "0     False\n",
       "1     False\n",
       "2     False\n",
       "3     False\n",
       "4     False\n",
       "5     False\n",
       "6     False\n",
       "7     False\n",
       "8     False\n",
       "9     False\n",
       "10    False\n",
       "11    False\n",
       "12    False\n",
       "13    False\n",
       "14    False\n",
       "15    False\n",
       "16    False\n",
       "17    False\n",
       "18    False\n",
       "19    False\n",
       "20    False\n",
       "21    False\n",
       "22    False\n",
       "23    False\n",
       "24    False\n",
       "25    False\n",
       "26    False\n",
       "27    False\n",
       "28    False\n",
       "29    False\n",
       "30    False\n",
       "31    False\n",
       "32    False\n",
       "33    False\n",
       "34    False\n",
       "35    False\n",
       "36    False\n",
       "37    False\n",
       "38    False\n",
       "39    False\n",
       "40    False\n",
       "41    False\n",
       "42    False\n",
       "43    False\n",
       "44    False\n",
       "45    False\n",
       "46    False\n",
       "47     True\n",
       "48     True\n",
       "49     True\n",
       "50     True\n",
       "51     True\n",
       "52     True\n",
       "53     True\n",
       "54     True\n",
       "55     True\n",
       "56     True\n",
       "57     True\n",
       "58     True\n",
       "59     True\n",
       "60     True\n",
       "61     True\n",
       "62     True\n",
       "63     True\n",
       "64     True\n",
       "65     True\n",
       "66     True\n",
       "67     True\n",
       "68     True\n",
       "Name: 都道府県, dtype: bool"
      ]
     },
     "execution_count": 5,
     "metadata": {},
     "output_type": "execute_result"
    }
   ],
   "source": [
    "df['都道府県'].str.match(r'^(.*市|.*計|.*区部)$')  # debug"
   ]
  },
  {
   "cell_type": "code",
   "execution_count": 6,
   "metadata": {},
   "outputs": [
    {
     "name": "stdout",
     "output_type": "stream",
     "text": [
      "<class 'pandas.core.frame.DataFrame'>\n",
      "RangeIndex: 47 entries, 0 to 46\n",
      "Data columns (total 4 columns):\n",
      "都道府県    47 non-null object\n",
      "転入      47 non-null int64\n",
      "転出      47 non-null int64\n",
      "増減      47 non-null int64\n",
      "dtypes: int64(3), object(1)\n",
      "memory usage: 1.5+ KB\n",
      "None\n"
     ]
    },
    {
     "data": {
      "text/html": [
       "<div>\n",
       "<style scoped>\n",
       "    .dataframe tbody tr th:only-of-type {\n",
       "        vertical-align: middle;\n",
       "    }\n",
       "\n",
       "    .dataframe tbody tr th {\n",
       "        vertical-align: top;\n",
       "    }\n",
       "\n",
       "    .dataframe thead th {\n",
       "        text-align: right;\n",
       "    }\n",
       "</style>\n",
       "<table border=\"1\" class=\"dataframe\">\n",
       "  <thead>\n",
       "    <tr style=\"text-align: right;\">\n",
       "      <th></th>\n",
       "      <th>都道府県</th>\n",
       "      <th>転入</th>\n",
       "      <th>転出</th>\n",
       "      <th>増減</th>\n",
       "    </tr>\n",
       "  </thead>\n",
       "  <tbody>\n",
       "    <tr>\n",
       "      <th>0</th>\n",
       "      <td>北海道</td>\n",
       "      <td>48544</td>\n",
       "      <td>55418</td>\n",
       "      <td>-6874</td>\n",
       "    </tr>\n",
       "    <tr>\n",
       "      <th>1</th>\n",
       "      <td>青森県</td>\n",
       "      <td>17061</td>\n",
       "      <td>23384</td>\n",
       "      <td>-6323</td>\n",
       "    </tr>\n",
       "    <tr>\n",
       "      <th>2</th>\n",
       "      <td>岩手県</td>\n",
       "      <td>17113</td>\n",
       "      <td>20983</td>\n",
       "      <td>-3870</td>\n",
       "    </tr>\n",
       "    <tr>\n",
       "      <th>3</th>\n",
       "      <td>宮城県</td>\n",
       "      <td>47124</td>\n",
       "      <td>47607</td>\n",
       "      <td>-483</td>\n",
       "    </tr>\n",
       "    <tr>\n",
       "      <th>4</th>\n",
       "      <td>秋田県</td>\n",
       "      <td>11353</td>\n",
       "      <td>15751</td>\n",
       "      <td>-4398</td>\n",
       "    </tr>\n",
       "  </tbody>\n",
       "</table>\n",
       "</div>"
      ],
      "text/plain": [
       "  都道府県     転入     転出    増減\n",
       "0  北海道  48544  55418 -6874\n",
       "1  青森県  17061  23384 -6323\n",
       "2  岩手県  17113  20983 -3870\n",
       "3  宮城県  47124  47607  -483\n",
       "4  秋田県  11353  15751 -4398"
      ]
     },
     "metadata": {},
     "output_type": "display_data"
    }
   ],
   "source": [
    "df2 = df.drop(df.index[df['都道府県'].str.match(r'^(.*市|.*計|.*区部)$') ]).reset_index(drop=True)\n",
    "print(df2.info())\n",
    "display(df2.head())"
   ]
  },
  {
   "cell_type": "markdown",
   "metadata": {},
   "source": [
    "### Check data  "
   ]
  },
  {
   "cell_type": "code",
   "execution_count": 7,
   "metadata": {},
   "outputs": [
    {
     "name": "stdout",
     "output_type": "stream",
     "text": [
      "都道府県      北海道\n",
      "転入      48544\n",
      "転出      55418\n",
      "増減      -6874\n",
      "Name: 0, dtype: object\n",
      "都道府県       東京都\n",
      "転入      413444\n",
      "転出      339267\n",
      "増減       74177\n",
      "Name: 12, dtype: object\n"
     ]
    }
   ],
   "source": [
    "print(df2.loc[df2['増減'].idxmin()])\n",
    "print(df2.loc[df2['増減'].idxmax()])"
   ]
  },
  {
   "cell_type": "markdown",
   "metadata": {},
   "source": [
    "### Parameters2 (for lat/lon)   "
   ]
  },
  {
   "cell_type": "code",
   "execution_count": 8,
   "metadata": {},
   "outputs": [],
   "source": [
    "csv_in2 = 'h3010pref_pos_utf8.csv'"
   ]
  },
  {
   "cell_type": "markdown",
   "metadata": {},
   "source": [
    "### Read CSV file"
   ]
  },
  {
   "cell_type": "code",
   "execution_count": 9,
   "metadata": {},
   "outputs": [
    {
     "name": "stdout",
     "output_type": "stream",
     "text": [
      "(1963, 3)\n"
     ]
    },
    {
     "data": {
      "text/html": [
       "<div>\n",
       "<style scoped>\n",
       "    .dataframe tbody tr th:only-of-type {\n",
       "        vertical-align: middle;\n",
       "    }\n",
       "\n",
       "    .dataframe tbody tr th {\n",
       "        vertical-align: top;\n",
       "    }\n",
       "\n",
       "    .dataframe thead th {\n",
       "        text-align: right;\n",
       "    }\n",
       "</style>\n",
       "<table border=\"1\" class=\"dataframe\">\n",
       "  <thead>\n",
       "    <tr style=\"text-align: right;\">\n",
       "      <th></th>\n",
       "      <th>name</th>\n",
       "      <th>lat</th>\n",
       "      <th>lon</th>\n",
       "    </tr>\n",
       "  </thead>\n",
       "  <tbody>\n",
       "    <tr>\n",
       "      <th>0</th>\n",
       "      <td>北海道</td>\n",
       "      <td>43.064278</td>\n",
       "      <td>141.346785</td>\n",
       "    </tr>\n",
       "    <tr>\n",
       "      <th>1</th>\n",
       "      <td>札幌市</td>\n",
       "      <td>43.061945</td>\n",
       "      <td>141.354395</td>\n",
       "    </tr>\n",
       "    <tr>\n",
       "      <th>2</th>\n",
       "      <td>札幌市中央区</td>\n",
       "      <td>43.055390</td>\n",
       "      <td>141.340980</td>\n",
       "    </tr>\n",
       "    <tr>\n",
       "      <th>3</th>\n",
       "      <td>札幌市北区</td>\n",
       "      <td>43.090691</td>\n",
       "      <td>141.340922</td>\n",
       "    </tr>\n",
       "    <tr>\n",
       "      <th>4</th>\n",
       "      <td>札幌市東区</td>\n",
       "      <td>43.076111</td>\n",
       "      <td>141.363616</td>\n",
       "    </tr>\n",
       "  </tbody>\n",
       "</table>\n",
       "</div>"
      ],
      "text/plain": [
       "     name        lat         lon\n",
       "0     北海道  43.064278  141.346785\n",
       "1     札幌市  43.061945  141.354395\n",
       "2  札幌市中央区  43.055390  141.340980\n",
       "3   札幌市北区  43.090691  141.340922\n",
       "4   札幌市東区  43.076111  141.363616"
      ]
     },
     "metadata": {},
     "output_type": "display_data"
    }
   ],
   "source": [
    "df_pos = pd.read_csv(csv_in2, delimiter=',', skiprows=0, header=0)\n",
    "print(df_pos.shape)\n",
    "display(df_pos.head())"
   ]
  },
  {
   "cell_type": "markdown",
   "metadata": {},
   "source": [
    "### Merge DataFrames to add lat/lon to pref data  "
   ]
  },
  {
   "cell_type": "code",
   "execution_count": 10,
   "metadata": {},
   "outputs": [
    {
     "name": "stdout",
     "output_type": "stream",
     "text": [
      "(47, 7)\n"
     ]
    },
    {
     "data": {
      "text/html": [
       "<div>\n",
       "<style scoped>\n",
       "    .dataframe tbody tr th:only-of-type {\n",
       "        vertical-align: middle;\n",
       "    }\n",
       "\n",
       "    .dataframe tbody tr th {\n",
       "        vertical-align: top;\n",
       "    }\n",
       "\n",
       "    .dataframe thead th {\n",
       "        text-align: right;\n",
       "    }\n",
       "</style>\n",
       "<table border=\"1\" class=\"dataframe\">\n",
       "  <thead>\n",
       "    <tr style=\"text-align: right;\">\n",
       "      <th></th>\n",
       "      <th>都道府県</th>\n",
       "      <th>転入</th>\n",
       "      <th>転出</th>\n",
       "      <th>増減</th>\n",
       "      <th>name</th>\n",
       "      <th>lat</th>\n",
       "      <th>lon</th>\n",
       "    </tr>\n",
       "  </thead>\n",
       "  <tbody>\n",
       "    <tr>\n",
       "      <th>0</th>\n",
       "      <td>北海道</td>\n",
       "      <td>48544</td>\n",
       "      <td>55418</td>\n",
       "      <td>-6874</td>\n",
       "      <td>北海道</td>\n",
       "      <td>43.064278</td>\n",
       "      <td>141.346785</td>\n",
       "    </tr>\n",
       "    <tr>\n",
       "      <th>1</th>\n",
       "      <td>青森県</td>\n",
       "      <td>17061</td>\n",
       "      <td>23384</td>\n",
       "      <td>-6323</td>\n",
       "      <td>青森県</td>\n",
       "      <td>40.824338</td>\n",
       "      <td>140.740087</td>\n",
       "    </tr>\n",
       "    <tr>\n",
       "      <th>2</th>\n",
       "      <td>岩手県</td>\n",
       "      <td>17113</td>\n",
       "      <td>20983</td>\n",
       "      <td>-3870</td>\n",
       "      <td>岩手県</td>\n",
       "      <td>39.703647</td>\n",
       "      <td>141.152592</td>\n",
       "    </tr>\n",
       "    <tr>\n",
       "      <th>3</th>\n",
       "      <td>宮城県</td>\n",
       "      <td>47124</td>\n",
       "      <td>47607</td>\n",
       "      <td>-483</td>\n",
       "      <td>宮城県</td>\n",
       "      <td>38.268803</td>\n",
       "      <td>140.871846</td>\n",
       "    </tr>\n",
       "    <tr>\n",
       "      <th>4</th>\n",
       "      <td>秋田県</td>\n",
       "      <td>11353</td>\n",
       "      <td>15751</td>\n",
       "      <td>-4398</td>\n",
       "      <td>秋田県</td>\n",
       "      <td>39.718058</td>\n",
       "      <td>140.103250</td>\n",
       "    </tr>\n",
       "  </tbody>\n",
       "</table>\n",
       "</div>"
      ],
      "text/plain": [
       "  都道府県     転入     転出    増減 name        lat         lon\n",
       "0  北海道  48544  55418 -6874  北海道  43.064278  141.346785\n",
       "1  青森県  17061  23384 -6323  青森県  40.824338  140.740087\n",
       "2  岩手県  17113  20983 -3870  岩手県  39.703647  141.152592\n",
       "3  宮城県  47124  47607  -483  宮城県  38.268803  140.871846\n",
       "4  秋田県  11353  15751 -4398  秋田県  39.718058  140.103250"
      ]
     },
     "metadata": {},
     "output_type": "display_data"
    }
   ],
   "source": [
    "df_merged = pd.merge(df2, df_pos, left_on='都道府県', right_on='name', how='left')\n",
    "print(df_merged.shape)\n",
    "display(df_merged.head())"
   ]
  },
  {
   "cell_type": "markdown",
   "metadata": {},
   "source": [
    "### Make data for heatmap  \n",
    "[ [lat2, lon2, value2], [lat2, lon2, value2], ... ]  "
   ]
  },
  {
   "cell_type": "code",
   "execution_count": 11,
   "metadata": {},
   "outputs": [
    {
     "name": "stdout",
     "output_type": "stream",
     "text": [
      "(47, 3)\n"
     ]
    },
    {
     "data": {
      "text/html": [
       "<div>\n",
       "<style scoped>\n",
       "    .dataframe tbody tr th:only-of-type {\n",
       "        vertical-align: middle;\n",
       "    }\n",
       "\n",
       "    .dataframe tbody tr th {\n",
       "        vertical-align: top;\n",
       "    }\n",
       "\n",
       "    .dataframe thead th {\n",
       "        text-align: right;\n",
       "    }\n",
       "</style>\n",
       "<table border=\"1\" class=\"dataframe\">\n",
       "  <thead>\n",
       "    <tr style=\"text-align: right;\">\n",
       "      <th></th>\n",
       "      <th>lat</th>\n",
       "      <th>lon</th>\n",
       "      <th>増減</th>\n",
       "    </tr>\n",
       "  </thead>\n",
       "  <tbody>\n",
       "    <tr>\n",
       "      <th>0</th>\n",
       "      <td>43.064278</td>\n",
       "      <td>141.346785</td>\n",
       "      <td>-6874</td>\n",
       "    </tr>\n",
       "    <tr>\n",
       "      <th>1</th>\n",
       "      <td>40.824338</td>\n",
       "      <td>140.740087</td>\n",
       "      <td>-6323</td>\n",
       "    </tr>\n",
       "    <tr>\n",
       "      <th>2</th>\n",
       "      <td>39.703647</td>\n",
       "      <td>141.152592</td>\n",
       "      <td>-3870</td>\n",
       "    </tr>\n",
       "    <tr>\n",
       "      <th>3</th>\n",
       "      <td>38.268803</td>\n",
       "      <td>140.871846</td>\n",
       "      <td>-483</td>\n",
       "    </tr>\n",
       "    <tr>\n",
       "      <th>4</th>\n",
       "      <td>39.718058</td>\n",
       "      <td>140.103250</td>\n",
       "      <td>-4398</td>\n",
       "    </tr>\n",
       "  </tbody>\n",
       "</table>\n",
       "</div>"
      ],
      "text/plain": [
       "         lat         lon    増減\n",
       "0  43.064278  141.346785 -6874\n",
       "1  40.824338  140.740087 -6323\n",
       "2  39.703647  141.152592 -3870\n",
       "3  38.268803  140.871846  -483\n",
       "4  39.718058  140.103250 -4398"
      ]
     },
     "metadata": {},
     "output_type": "display_data"
    }
   ],
   "source": [
    "df_heat = df_merged[['lat', 'lon', '増減']]\n",
    "print(df_heat.shape)\n",
    "display(df_heat.head())"
   ]
  },
  {
   "cell_type": "code",
   "execution_count": 12,
   "metadata": {},
   "outputs": [
    {
     "name": "stdout",
     "output_type": "stream",
     "text": [
      "[lat      43.064278\n",
      "lon     141.346785\n",
      "増減    -6874.000000\n",
      "Name: 0, dtype: float64, lat      40.824338\n",
      "lon     140.740087\n",
      "増減    -6323.000000\n",
      "Name: 1, dtype: float64, lat      39.703647\n",
      "lon     141.152592\n",
      "増減    -3870.000000\n",
      "Name: 2, dtype: float64]\n"
     ]
    }
   ],
   "source": [
    "ar_heat = []\n",
    "for i,r in df_heat.iterrows():\n",
    "    ar_heat.append(r)\n",
    "print(ar_heat[:3])"
   ]
  },
  {
   "cell_type": "markdown",
   "metadata": {},
   "source": [
    "### Make map  "
   ]
  },
  {
   "cell_type": "code",
   "execution_count": 13,
   "metadata": {},
   "outputs": [
    {
     "data": {
      "text/html": [
       "<div style=\"width:100%;\"><div style=\"position:relative;width:100%;height:0;padding-bottom:60%;\"><iframe src=\"data:text/html;charset=utf-8;base64,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\" style=\"position:absolute;width:100%;height:100%;left:0;top:0;border:none !important;\" allowfullscreen webkitallowfullscreen mozallowfullscreen></iframe></div></div>"
      ],
      "text/plain": [
       "<folium.folium.Map at 0x24387d58208>"
      ]
     },
     "metadata": {},
     "output_type": "display_data"
    }
   ],
   "source": [
    "from folium.plugins import HeatMap\n",
    "\n",
    "m = folium.Map(location=[35, 140], zoom_start=4)\n",
    "m.add_child(HeatMap(ar_heat, radius=12))\n",
    "display(m)"
   ]
  },
  {
   "cell_type": "markdown",
   "metadata": {},
   "source": [
    "### Add color bar  "
   ]
  },
  {
   "cell_type": "code",
   "execution_count": 14,
   "metadata": {},
   "outputs": [
    {
     "data": {
      "text/html": [
       "<div style=\"width:100%;\"><div style=\"position:relative;width:100%;height:0;padding-bottom:60%;\"><iframe src=\"data:text/html;charset=utf-8;base64,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\" style=\"position:absolute;width:100%;height:100%;left:0;top:0;border:none !important;\" allowfullscreen webkitallowfullscreen mozallowfullscreen></iframe></div></div>"
      ],
      "text/plain": [
       "<folium.folium.Map at 0x24387dda5c0>"
      ]
     },
     "metadata": {},
     "output_type": "display_data"
    }
   ],
   "source": [
    "from folium.plugins import HeatMap\n",
    "import branca.colormap as cm\n",
    "\n",
    "m = folium.Map(location=[35, 140], zoom_start=4)\n",
    "m.add_child(HeatMap(ar_heat, radius=12,\n",
    "                    gradient={0:'blue', 0.5:'lime', 1:'red'}))\n",
    "\n",
    "min = df_heat['増減'].min()\n",
    "max = df_heat['増減'].max()\n",
    "colors = ['blue', 'lime', 'red']\n",
    "colormap = cm.LinearColormap(colors, vmin=min, vmax=max).to_step(10000)\n",
    "colormap.caption = 'Increase/Decrease of Population'\n",
    "m.add_child(colormap)\n",
    "\n",
    "display(m)"
   ]
  },
  {
   "cell_type": "code",
   "execution_count": null,
   "metadata": {},
   "outputs": [],
   "source": []
  }
 ],
 "metadata": {
  "kernelspec": {
   "display_name": "Python 3",
   "language": "python",
   "name": "python3"
  },
  "language_info": {
   "codemirror_mode": {
    "name": "ipython",
    "version": 3
   },
   "file_extension": ".py",
   "mimetype": "text/x-python",
   "name": "python",
   "nbconvert_exporter": "python",
   "pygments_lexer": "ipython3",
   "version": "3.7.2"
  }
 },
 "nbformat": 4,
 "nbformat_minor": 2
}
