{
 "cells": [
  {
   "cell_type": "markdown",
   "metadata": {},
   "source": [
    "## Example of displaying heatmap using folium (crime2016, English)   "
   ]
  },
  {
   "cell_type": "markdown",
   "metadata": {},
   "source": [
    "### Import libraries  "
   ]
  },
  {
   "cell_type": "code",
   "execution_count": 10,
   "metadata": {},
   "outputs": [],
   "source": [
    "import pandas as pd\n",
    "import folium"
   ]
  },
  {
   "cell_type": "markdown",
   "metadata": {},
   "source": [
    "### Parameters"
   ]
  },
  {
   "cell_type": "code",
   "execution_count": 11,
   "metadata": {},
   "outputs": [],
   "source": [
    "csv_in = 'crime2006_2016_en-utf8.csv'\n",
    "\n",
    "pd.options.display.max_rows = 999\n",
    "pd.options.display.max_columns = 999"
   ]
  },
  {
   "cell_type": "markdown",
   "metadata": {},
   "source": [
    "### Read CSV file"
   ]
  },
  {
   "cell_type": "code",
   "execution_count": 12,
   "metadata": {},
   "outputs": [
    {
     "name": "stdout",
     "output_type": "stream",
     "text": [
      "(517, 3)\n",
      "<class 'pandas.core.frame.DataFrame'>\n",
      "RangeIndex: 517 entries, 0 to 516\n",
      "Data columns (total 3 columns):\n",
      "Year         517 non-null int64\n",
      "Pref         517 non-null object\n",
      "#Arrested    517 non-null int64\n",
      "dtypes: int64(2), object(1)\n",
      "memory usage: 12.2+ KB\n",
      "None\n"
     ]
    },
    {
     "data": {
      "text/html": [
       "<div>\n",
       "<style scoped>\n",
       "    .dataframe tbody tr th:only-of-type {\n",
       "        vertical-align: middle;\n",
       "    }\n",
       "\n",
       "    .dataframe tbody tr th {\n",
       "        vertical-align: top;\n",
       "    }\n",
       "\n",
       "    .dataframe thead th {\n",
       "        text-align: right;\n",
       "    }\n",
       "</style>\n",
       "<table border=\"1\" class=\"dataframe\">\n",
       "  <thead>\n",
       "    <tr style=\"text-align: right;\">\n",
       "      <th></th>\n",
       "      <th>Year</th>\n",
       "      <th>Pref</th>\n",
       "      <th>#Arrested</th>\n",
       "    </tr>\n",
       "  </thead>\n",
       "  <tbody>\n",
       "    <tr>\n",
       "      <th>0</th>\n",
       "      <td>2016</td>\n",
       "      <td>Hokkaido</td>\n",
       "      <td>8460</td>\n",
       "    </tr>\n",
       "    <tr>\n",
       "      <th>1</th>\n",
       "      <td>2016</td>\n",
       "      <td>Aomori</td>\n",
       "      <td>1621</td>\n",
       "    </tr>\n",
       "    <tr>\n",
       "      <th>2</th>\n",
       "      <td>2016</td>\n",
       "      <td>Iwate</td>\n",
       "      <td>1282</td>\n",
       "    </tr>\n",
       "    <tr>\n",
       "      <th>3</th>\n",
       "      <td>2016</td>\n",
       "      <td>Miyagi</td>\n",
       "      <td>3209</td>\n",
       "    </tr>\n",
       "    <tr>\n",
       "      <th>4</th>\n",
       "      <td>2016</td>\n",
       "      <td>Akita</td>\n",
       "      <td>1364</td>\n",
       "    </tr>\n",
       "  </tbody>\n",
       "</table>\n",
       "</div>"
      ],
      "text/plain": [
       "   Year      Pref  #Arrested\n",
       "0  2016  Hokkaido       8460\n",
       "1  2016    Aomori       1621\n",
       "2  2016     Iwate       1282\n",
       "3  2016    Miyagi       3209\n",
       "4  2016     Akita       1364"
      ]
     },
     "metadata": {},
     "output_type": "display_data"
    }
   ],
   "source": [
    "df = pd.read_csv(csv_in, delimiter=',', skiprows=0, header=0)\n",
    "print(df.shape)\n",
    "print(df.info())\n",
    "display(df.head())"
   ]
  },
  {
   "cell_type": "markdown",
   "metadata": {},
   "source": [
    "### Select 2016 lines  "
   ]
  },
  {
   "cell_type": "code",
   "execution_count": 13,
   "metadata": {},
   "outputs": [
    {
     "name": "stdout",
     "output_type": "stream",
     "text": [
      "(47, 3)\n",
      "<class 'pandas.core.frame.DataFrame'>\n",
      "Int64Index: 47 entries, 0 to 46\n",
      "Data columns (total 3 columns):\n",
      "Year         47 non-null int64\n",
      "Pref         47 non-null object\n",
      "#Arrested    47 non-null int64\n",
      "dtypes: int64(2), object(1)\n",
      "memory usage: 1.5+ KB\n",
      "None\n",
      "    Year       Pref  #Arrested\n",
      "0   2016   Hokkaido       8460\n",
      "1   2016     Aomori       1621\n",
      "2   2016      Iwate       1282\n",
      "3   2016     Miyagi       3209\n",
      "4   2016      Akita       1364\n",
      "5   2016   Yamagata       1910\n",
      "6   2016  Fukushima       2374\n",
      "7   2016      Tokyo      31044\n",
      "8   2016    Ibaraki       4873\n",
      "9   2016    Tochigi       2841\n",
      "10  2016      Gunma       4063\n",
      "11  2016    Saitama      12739\n",
      "12  2016      Chiba      10158\n",
      "13  2016   Kanagawa      16356\n",
      "14  2016    Niigata       3731\n",
      "15  2016  Yamanashi       1143\n",
      "16  2016     Nagano       2411\n",
      "17  2016   Shizuoka       6812\n",
      "18  2016     Toyama       1584\n",
      "19  2016   Ishikawa       1687\n",
      "20  2016      Fukui       1153\n",
      "21  2016       Gifu       2845\n",
      "22  2016      Aichi      14505\n",
      "23  2016        Mie       2159\n",
      "24  2016      Shiga       2172\n",
      "25  2016      Kyoto       4489\n",
      "26  2016      Osaka      17484\n",
      "27  2016      Hyogo      12145\n",
      "28  2016       Nara       2415\n",
      "29  2016   Wakayama       1918\n",
      "30  2016    Tottori        942\n",
      "31  2016    Shimane        858\n",
      "32  2016    Okayama       3782\n",
      "33  2016  Hiroshima       4989\n",
      "34  2016  Yamaguchi       2159\n",
      "35  2016  Tokushima       1103\n",
      "36  2016     Kagawa       1788\n",
      "37  2016      Ehime       2632\n",
      "38  2016      Kochi       1063\n",
      "39  2016    Fukuoka      10880\n",
      "40  2016       Saga       1531\n",
      "41  2016   Nagasaki       1866\n",
      "42  2016   Kumamoto       2944\n",
      "43  2016       Oita       1548\n",
      "44  2016   Miyazaki       1642\n",
      "45  2016  Kagoshima       2330\n",
      "46  2016    Okinawa       3372\n"
     ]
    }
   ],
   "source": [
    "df2016 = df[ df['Year']==2016 ]\n",
    "print(df2016.shape)\n",
    "print(df2016.info())\n",
    "print(df2016)"
   ]
  },
  {
   "cell_type": "markdown",
   "metadata": {},
   "source": [
    "### Parameters2 (for lat/lon)   "
   ]
  },
  {
   "cell_type": "code",
   "execution_count": 14,
   "metadata": {},
   "outputs": [],
   "source": [
    "csv_in2 = 'h3010pref_pos_utf8_en.csv'"
   ]
  },
  {
   "cell_type": "markdown",
   "metadata": {},
   "source": [
    "### UTF-8, delimiter is ',', skip no line and read header  "
   ]
  },
  {
   "cell_type": "code",
   "execution_count": 15,
   "metadata": {},
   "outputs": [
    {
     "name": "stdout",
     "output_type": "stream",
     "text": [
      "(47, 3)\n"
     ]
    },
    {
     "data": {
      "text/html": [
       "<div>\n",
       "<style scoped>\n",
       "    .dataframe tbody tr th:only-of-type {\n",
       "        vertical-align: middle;\n",
       "    }\n",
       "\n",
       "    .dataframe tbody tr th {\n",
       "        vertical-align: top;\n",
       "    }\n",
       "\n",
       "    .dataframe thead th {\n",
       "        text-align: right;\n",
       "    }\n",
       "</style>\n",
       "<table border=\"1\" class=\"dataframe\">\n",
       "  <thead>\n",
       "    <tr style=\"text-align: right;\">\n",
       "      <th></th>\n",
       "      <th>Pref</th>\n",
       "      <th>lat</th>\n",
       "      <th>lon</th>\n",
       "    </tr>\n",
       "  </thead>\n",
       "  <tbody>\n",
       "    <tr>\n",
       "      <th>0</th>\n",
       "      <td>Hokkaido</td>\n",
       "      <td>43.064278</td>\n",
       "      <td>141.346785</td>\n",
       "    </tr>\n",
       "    <tr>\n",
       "      <th>1</th>\n",
       "      <td>Aomori</td>\n",
       "      <td>40.824338</td>\n",
       "      <td>140.740087</td>\n",
       "    </tr>\n",
       "    <tr>\n",
       "      <th>2</th>\n",
       "      <td>Iwate</td>\n",
       "      <td>39.703647</td>\n",
       "      <td>141.152592</td>\n",
       "    </tr>\n",
       "    <tr>\n",
       "      <th>3</th>\n",
       "      <td>Miyagi</td>\n",
       "      <td>38.268803</td>\n",
       "      <td>140.871846</td>\n",
       "    </tr>\n",
       "    <tr>\n",
       "      <th>4</th>\n",
       "      <td>Akita</td>\n",
       "      <td>39.718058</td>\n",
       "      <td>140.103250</td>\n",
       "    </tr>\n",
       "  </tbody>\n",
       "</table>\n",
       "</div>"
      ],
      "text/plain": [
       "       Pref        lat         lon\n",
       "0  Hokkaido  43.064278  141.346785\n",
       "1    Aomori  40.824338  140.740087\n",
       "2     Iwate  39.703647  141.152592\n",
       "3    Miyagi  38.268803  140.871846\n",
       "4     Akita  39.718058  140.103250"
      ]
     },
     "metadata": {},
     "output_type": "display_data"
    }
   ],
   "source": [
    "df_pos = pd.read_csv(csv_in2, delimiter=',', skiprows=0, header=0)\n",
    "print(df_pos.shape)\n",
    "display(df_pos.head())"
   ]
  },
  {
   "cell_type": "markdown",
   "metadata": {},
   "source": [
    "### Merge DataFrames to add lat/lon to pref data  "
   ]
  },
  {
   "cell_type": "code",
   "execution_count": 16,
   "metadata": {},
   "outputs": [
    {
     "name": "stdout",
     "output_type": "stream",
     "text": [
      "(47, 5)\n"
     ]
    },
    {
     "data": {
      "text/html": [
       "<div>\n",
       "<style scoped>\n",
       "    .dataframe tbody tr th:only-of-type {\n",
       "        vertical-align: middle;\n",
       "    }\n",
       "\n",
       "    .dataframe tbody tr th {\n",
       "        vertical-align: top;\n",
       "    }\n",
       "\n",
       "    .dataframe thead th {\n",
       "        text-align: right;\n",
       "    }\n",
       "</style>\n",
       "<table border=\"1\" class=\"dataframe\">\n",
       "  <thead>\n",
       "    <tr style=\"text-align: right;\">\n",
       "      <th></th>\n",
       "      <th>Year</th>\n",
       "      <th>Pref</th>\n",
       "      <th>#Arrested</th>\n",
       "      <th>lat</th>\n",
       "      <th>lon</th>\n",
       "    </tr>\n",
       "  </thead>\n",
       "  <tbody>\n",
       "    <tr>\n",
       "      <th>0</th>\n",
       "      <td>2016</td>\n",
       "      <td>Hokkaido</td>\n",
       "      <td>8460</td>\n",
       "      <td>43.064278</td>\n",
       "      <td>141.346785</td>\n",
       "    </tr>\n",
       "    <tr>\n",
       "      <th>1</th>\n",
       "      <td>2016</td>\n",
       "      <td>Aomori</td>\n",
       "      <td>1621</td>\n",
       "      <td>40.824338</td>\n",
       "      <td>140.740087</td>\n",
       "    </tr>\n",
       "    <tr>\n",
       "      <th>2</th>\n",
       "      <td>2016</td>\n",
       "      <td>Iwate</td>\n",
       "      <td>1282</td>\n",
       "      <td>39.703647</td>\n",
       "      <td>141.152592</td>\n",
       "    </tr>\n",
       "    <tr>\n",
       "      <th>3</th>\n",
       "      <td>2016</td>\n",
       "      <td>Miyagi</td>\n",
       "      <td>3209</td>\n",
       "      <td>38.268803</td>\n",
       "      <td>140.871846</td>\n",
       "    </tr>\n",
       "    <tr>\n",
       "      <th>4</th>\n",
       "      <td>2016</td>\n",
       "      <td>Akita</td>\n",
       "      <td>1364</td>\n",
       "      <td>39.718058</td>\n",
       "      <td>140.103250</td>\n",
       "    </tr>\n",
       "  </tbody>\n",
       "</table>\n",
       "</div>"
      ],
      "text/plain": [
       "   Year      Pref  #Arrested        lat         lon\n",
       "0  2016  Hokkaido       8460  43.064278  141.346785\n",
       "1  2016    Aomori       1621  40.824338  140.740087\n",
       "2  2016     Iwate       1282  39.703647  141.152592\n",
       "3  2016    Miyagi       3209  38.268803  140.871846\n",
       "4  2016     Akita       1364  39.718058  140.103250"
      ]
     },
     "metadata": {},
     "output_type": "display_data"
    }
   ],
   "source": [
    "df_merged = pd.merge(df2016, df_pos, on='Pref', how='left')\n",
    "print(df_merged.shape)\n",
    "display(df_merged.head())"
   ]
  },
  {
   "cell_type": "markdown",
   "metadata": {},
   "source": [
    "### Make data for heatmap  \n",
    "[ [lat2, lon2, value2], [lat2, lon2, value2], ... ]  "
   ]
  },
  {
   "cell_type": "code",
   "execution_count": 17,
   "metadata": {},
   "outputs": [
    {
     "name": "stdout",
     "output_type": "stream",
     "text": [
      "(47, 3)\n"
     ]
    },
    {
     "data": {
      "text/html": [
       "<div>\n",
       "<style scoped>\n",
       "    .dataframe tbody tr th:only-of-type {\n",
       "        vertical-align: middle;\n",
       "    }\n",
       "\n",
       "    .dataframe tbody tr th {\n",
       "        vertical-align: top;\n",
       "    }\n",
       "\n",
       "    .dataframe thead th {\n",
       "        text-align: right;\n",
       "    }\n",
       "</style>\n",
       "<table border=\"1\" class=\"dataframe\">\n",
       "  <thead>\n",
       "    <tr style=\"text-align: right;\">\n",
       "      <th></th>\n",
       "      <th>lat</th>\n",
       "      <th>lon</th>\n",
       "      <th>#Arrested</th>\n",
       "    </tr>\n",
       "  </thead>\n",
       "  <tbody>\n",
       "    <tr>\n",
       "      <th>0</th>\n",
       "      <td>43.064278</td>\n",
       "      <td>141.346785</td>\n",
       "      <td>8460</td>\n",
       "    </tr>\n",
       "    <tr>\n",
       "      <th>1</th>\n",
       "      <td>40.824338</td>\n",
       "      <td>140.740087</td>\n",
       "      <td>1621</td>\n",
       "    </tr>\n",
       "    <tr>\n",
       "      <th>2</th>\n",
       "      <td>39.703647</td>\n",
       "      <td>141.152592</td>\n",
       "      <td>1282</td>\n",
       "    </tr>\n",
       "    <tr>\n",
       "      <th>3</th>\n",
       "      <td>38.268803</td>\n",
       "      <td>140.871846</td>\n",
       "      <td>3209</td>\n",
       "    </tr>\n",
       "    <tr>\n",
       "      <th>4</th>\n",
       "      <td>39.718058</td>\n",
       "      <td>140.103250</td>\n",
       "      <td>1364</td>\n",
       "    </tr>\n",
       "  </tbody>\n",
       "</table>\n",
       "</div>"
      ],
      "text/plain": [
       "         lat         lon  #Arrested\n",
       "0  43.064278  141.346785       8460\n",
       "1  40.824338  140.740087       1621\n",
       "2  39.703647  141.152592       1282\n",
       "3  38.268803  140.871846       3209\n",
       "4  39.718058  140.103250       1364"
      ]
     },
     "metadata": {},
     "output_type": "display_data"
    },
    {
     "name": "stdout",
     "output_type": "stream",
     "text": [
      "[lat            43.064278\n",
      "lon           141.346785\n",
      "#Arrested    8460.000000\n",
      "Name: 0, dtype: float64, lat            40.824338\n",
      "lon           140.740087\n",
      "#Arrested    1621.000000\n",
      "Name: 1, dtype: float64, lat            39.703647\n",
      "lon           141.152592\n",
      "#Arrested    1282.000000\n",
      "Name: 2, dtype: float64]\n"
     ]
    }
   ],
   "source": [
    "df_heat = df_merged[['lat', 'lon', '#Arrested']]\n",
    "print(df_heat.shape)\n",
    "display(df_heat.head())\n",
    "\n",
    "ar_heat = []\n",
    "for i,r in df_heat.iterrows():\n",
    "    ar_heat.append(r)\n",
    "print(ar_heat[:3])"
   ]
  },
  {
   "cell_type": "markdown",
   "metadata": {},
   "source": [
    "### Make map  "
   ]
  },
  {
   "cell_type": "code",
   "execution_count": 18,
   "metadata": {},
   "outputs": [
    {
     "data": {
      "text/html": [
       "<div style=\"width:100%;\"><div style=\"position:relative;width:100%;height:0;padding-bottom:60%;\"><iframe src=\"data:text/html;charset=utf-8;base64,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\" style=\"position:absolute;width:100%;height:100%;left:0;top:0;border:none !important;\" allowfullscreen webkitallowfullscreen mozallowfullscreen></iframe></div></div>"
      ],
      "text/plain": [
       "<folium.folium.Map at 0x2391e4f4e10>"
      ]
     },
     "metadata": {},
     "output_type": "display_data"
    }
   ],
   "source": [
    "from folium.plugins import HeatMap\n",
    "\n",
    "m = folium.Map(location=[35, 140], zoom_start=4)\n",
    "m.add_child(HeatMap(ar_heat, radius=10))\n",
    "display(m)"
   ]
  },
  {
   "cell_type": "code",
   "execution_count": null,
   "metadata": {},
   "outputs": [],
   "source": []
  }
 ],
 "metadata": {
  "kernelspec": {
   "display_name": "Python 3",
   "language": "python",
   "name": "python3"
  },
  "language_info": {
   "codemirror_mode": {
    "name": "ipython",
    "version": 3
   },
   "file_extension": ".py",
   "mimetype": "text/x-python",
   "name": "python",
   "nbconvert_exporter": "python",
   "pygments_lexer": "ipython3",
   "version": "3.6.8"
  }
 },
 "nbformat": 4,
 "nbformat_minor": 2
}
