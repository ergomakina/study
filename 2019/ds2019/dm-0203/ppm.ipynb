{
 "cells": [
  {
   "cell_type": "markdown",
   "metadata": {},
   "source": [
    "## Product Portfolio Management and Bubble chart   "
   ]
  },
  {
   "cell_type": "markdown",
   "metadata": {},
   "source": [
    "### Import libraries"
   ]
  },
  {
   "cell_type": "code",
   "execution_count": 64,
   "metadata": {},
   "outputs": [],
   "source": [
    "import numpy as np\n",
    "import pandas as pd\n",
    "import matplotlib.pyplot as plt"
   ]
  },
  {
   "cell_type": "markdown",
   "metadata": {},
   "source": [
    "### Parameters"
   ]
  },
  {
   "cell_type": "code",
   "execution_count": 65,
   "metadata": {},
   "outputs": [],
   "source": [
    "%config InlineBackend.figure_formats = {'png', 'retina'}  # for high-reso graph\n",
    "plt.rcParams['font.family'] = 'Yu Mincho' # for Japanese in graph (Win10)\n",
    "\n",
    "csv_in = 'ppm.csv'"
   ]
  },
  {
   "cell_type": "markdown",
   "metadata": {},
   "source": [
    "### Read CSV file"
   ]
  },
  {
   "cell_type": "code",
   "execution_count": 66,
   "metadata": {},
   "outputs": [
    {
     "name": "stdout",
     "output_type": "stream",
     "text": [
      "(4, 5)\n",
      "<class 'pandas.core.frame.DataFrame'>\n",
      "RangeIndex: 4 entries, 0 to 3\n",
      "Data columns (total 5 columns):\n",
      "Field               4 non-null object\n",
      "Sales(BY)           4 non-null float64\n",
      "Share(%)            4 non-null float64\n",
      "Top/2nd_Share(%)    4 non-null float64\n",
      "Growth_Ratio(%)     4 non-null float64\n",
      "dtypes: float64(4), object(1)\n",
      "memory usage: 240.0+ bytes\n",
      "None\n"
     ]
    },
    {
     "data": {
      "text/html": [
       "<div>\n",
       "<style scoped>\n",
       "    .dataframe tbody tr th:only-of-type {\n",
       "        vertical-align: middle;\n",
       "    }\n",
       "\n",
       "    .dataframe tbody tr th {\n",
       "        vertical-align: top;\n",
       "    }\n",
       "\n",
       "    .dataframe thead th {\n",
       "        text-align: right;\n",
       "    }\n",
       "</style>\n",
       "<table border=\"1\" class=\"dataframe\">\n",
       "  <thead>\n",
       "    <tr style=\"text-align: right;\">\n",
       "      <th></th>\n",
       "      <th>Field</th>\n",
       "      <th>Sales(BY)</th>\n",
       "      <th>Share(%)</th>\n",
       "      <th>Top/2nd_Share(%)</th>\n",
       "      <th>Growth_Ratio(%)</th>\n",
       "    </tr>\n",
       "  </thead>\n",
       "  <tbody>\n",
       "    <tr>\n",
       "      <th>0</th>\n",
       "      <td>Convenient_Store</td>\n",
       "      <td>4678.0</td>\n",
       "      <td>36.8</td>\n",
       "      <td>28.2</td>\n",
       "      <td>2.5</td>\n",
       "    </tr>\n",
       "    <tr>\n",
       "      <th>1</th>\n",
       "      <td>E-commerce</td>\n",
       "      <td>108.8</td>\n",
       "      <td>2.1</td>\n",
       "      <td>27.6</td>\n",
       "      <td>9.0</td>\n",
       "    </tr>\n",
       "    <tr>\n",
       "      <th>2</th>\n",
       "      <td>Department_Store</td>\n",
       "      <td>674.4</td>\n",
       "      <td>11.4</td>\n",
       "      <td>16.6</td>\n",
       "      <td>-1.1</td>\n",
       "    </tr>\n",
       "    <tr>\n",
       "      <th>3</th>\n",
       "      <td>Bank</td>\n",
       "      <td>127.7</td>\n",
       "      <td>0.7</td>\n",
       "      <td>23.6</td>\n",
       "      <td>0.3</td>\n",
       "    </tr>\n",
       "  </tbody>\n",
       "</table>\n",
       "</div>"
      ],
      "text/plain": [
       "              Field  Sales(BY)  Share(%)  Top/2nd_Share(%)  Growth_Ratio(%)\n",
       "0  Convenient_Store     4678.0      36.8              28.2              2.5\n",
       "1        E-commerce      108.8       2.1              27.6              9.0\n",
       "2  Department_Store      674.4      11.4              16.6             -1.1\n",
       "3              Bank      127.7       0.7              23.6              0.3"
      ]
     },
     "metadata": {},
     "output_type": "display_data"
    }
   ],
   "source": [
    "df = pd.read_csv(csv_in, delimiter=',', skiprows=3, header=0)\n",
    "print(df.shape)\n",
    "print(df.info())\n",
    "display(df.head())"
   ]
  },
  {
   "cell_type": "markdown",
   "metadata": {},
   "source": [
    "### Calculation of relative share  \n",
    "相対シェアの計算  "
   ]
  },
  {
   "cell_type": "code",
   "execution_count": 67,
   "metadata": {},
   "outputs": [],
   "source": [
    "df['relative_share'] = df['Share(%)'] / df['Top/2nd_Share(%)']"
   ]
  },
  {
   "cell_type": "markdown",
   "metadata": {},
   "source": [
    "### Calculation of relative sales  \n",
    "相対売上高の計算  "
   ]
  },
  {
   "cell_type": "code",
   "execution_count": 68,
   "metadata": {},
   "outputs": [],
   "source": [
    "df['relative_sales'] = df['Sales(BY)'] / df['Sales(BY)'].max()"
   ]
  },
  {
   "cell_type": "markdown",
   "metadata": {},
   "source": [
    "### Calculation of radius  \n",
    "円の面積比が相対売上高と一致するように半径を決める  \n",
    "(つまり相対売上高の平方根を円の半径とする)  "
   ]
  },
  {
   "cell_type": "code",
   "execution_count": 69,
   "metadata": {},
   "outputs": [],
   "source": [
    "df['radius'] = np.sqrt(df['relative_sales']) * 2000.0"
   ]
  },
  {
   "cell_type": "markdown",
   "metadata": {},
   "source": [
    "### Bubble chart  "
   ]
  },
  {
   "cell_type": "code",
   "execution_count": 75,
   "metadata": {},
   "outputs": [
    {
     "data": {
      "image/png": "[encoded data removed]",
      "text/plain": [
       "<Figure size 432x288 with 1 Axes>"
      ]
     },
     "metadata": {
      "image/png": {
       "height": 265,
       "width": 377
      },
      "needs_background": "light"
     },
     "output_type": "display_data"
    }
   ],
   "source": [
    "plt.scatter(df['relative_share'], df['Growth_Ratio(%)'], s=df['radius'], alpha=0.5)\n",
    "plt.xlabel('Relative share (log scale)')\n",
    "plt.ylabel('Growth Rate (%)')\n",
    "plt.xscale('log')\n",
    "(xmin,xmax,ymin,ymax) = plt.axis()\n",
    "plt.xlim(xmax, xmin)\n",
    "plt.ylim(ymin, ymax)\n",
    "plt.hlines([5], xmin, xmax, linestyle='dashed')\n",
    "plt.vlines([1], ymin, ymax, linestyle='dashed')\n",
    "plt.show()"
   ]
  },
  {
   "cell_type": "code",
   "execution_count": null,
   "metadata": {},
   "outputs": [],
   "source": []
  }
 ],
 "metadata": {
  "kernelspec": {
   "display_name": "Python 3",
   "language": "python",
   "name": "python3"
  },
  "language_info": {
   "codemirror_mode": {
    "name": "ipython",
    "version": 3
   },
   "file_extension": ".py",
   "mimetype": "text/x-python",
   "name": "python",
   "nbconvert_exporter": "python",
   "pygments_lexer": "ipython3",
   "version": "3.6.8"
  }
 },
 "nbformat": 4,
 "nbformat_minor": 2
}
