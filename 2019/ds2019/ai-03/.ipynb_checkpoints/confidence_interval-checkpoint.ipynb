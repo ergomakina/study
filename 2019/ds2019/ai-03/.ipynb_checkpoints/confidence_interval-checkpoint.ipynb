{
 "cells": [
  {
   "cell_type": "markdown",
   "metadata": {},
   "source": [
    "## Calculation of confidence interval\n",
    "### 1. n samples from normal distribution  "
   ]
  },
  {
   "cell_type": "code",
   "execution_count": 25,
   "metadata": {},
   "outputs": [],
   "source": [
    "import numpy as np\n",
    "import scipy.stats as ss"
   ]
  },
  {
   "cell_type": "markdown",
   "metadata": {},
   "source": [
    "#### Generate data as \"God\" "
   ]
  },
  {
   "cell_type": "code",
   "execution_count": 26,
   "metadata": {},
   "outputs": [],
   "source": [
    "np.random.seed(3)\n",
    "n = 20\n",
    "x = ss.norm.rvs(size=n, loc=0, scale=1)"
   ]
  },
  {
   "cell_type": "markdown",
   "metadata": {},
   "source": [
    "#### Calculate confidence interval for x using t.ppf()  "
   ]
  },
  {
   "cell_type": "code",
   "execution_count": 27,
   "metadata": {},
   "outputs": [
    {
     "name": "stdout",
     "output_type": "stream",
     "text": [
      "-0.5557301980217035 0.3748987030959274\n"
     ]
    }
   ],
   "source": [
    "alpha = 0.95\n",
    "ave = np.mean(x)\n",
    "unbiased_std = np.std(x, ddof=1)\n",
    "t_alpha = ss.t.ppf( (1+alpha)/2, n-1 )\n",
    "\n",
    "lower = ave - t_alpha * unbiased_std / np.sqrt(n)\n",
    "upper = ave + t_alpha * unbiased_std / np.sqrt(n)\n",
    "print(lower, upper)"
   ]
  },
  {
   "cell_type": "markdown",
   "metadata": {},
   "source": [
    "#### Calculate confidence interval for x directly using t.interval() "
   ]
  },
  {
   "cell_type": "code",
   "execution_count": 28,
   "metadata": {},
   "outputs": [
    {
     "name": "stdout",
     "output_type": "stream",
     "text": [
      "-0.5557301980217035 0.3748987030959274\n"
     ]
    }
   ],
   "source": [
    "alpha = 0.95\n",
    "ave = np.mean(x)\n",
    "se = ss.sem(x)\n",
    "\n",
    "lower, upper = ss.t.interval(alpha, loc=ave, scale=se, df=n-1)\n",
    "print(lower, upper)"
   ]
  },
  {
   "cell_type": "markdown",
   "metadata": {},
   "source": [
    "### 2. n samples of 0 or 1  "
   ]
  },
  {
   "cell_type": "markdown",
   "metadata": {},
   "source": [
    "#### Generate data as \"God\""
   ]
  },
  {
   "cell_type": "code",
   "execution_count": 29,
   "metadata": {},
   "outputs": [
    {
     "name": "stdout",
     "output_type": "stream",
     "text": [
      "10\n"
     ]
    }
   ],
   "source": [
    "p = 0.5\n",
    "x = ss.binom.rvs(n, p)  # return random value of #success(1) among n trials\n",
    "print(x)"
   ]
  },
  {
   "cell_type": "markdown",
   "metadata": {},
   "source": [
    "#### Calculate confidence interval for x using norm.ppf()  "
   ]
  },
  {
   "cell_type": "code",
   "execution_count": 30,
   "metadata": {},
   "outputs": [
    {
     "name": "stdout",
     "output_type": "stream",
     "text": [
      "0.2808693648558546 0.7191306351441453\n"
     ]
    }
   ],
   "source": [
    "alpha = 0.95\n",
    "n_alpha = ss.norm.ppf((1+alpha)/2)\n",
    "ave = x / n\n",
    "se = np.sqrt(ave * (1-ave) / n)\n",
    "upper = ave - n_alpha * se\n",
    "lower = ave + n_alpha * se\n",
    "print(upper, lower)"
   ]
  },
  {
   "cell_type": "markdown",
   "metadata": {},
   "source": [
    "#### Calculate confidence interval for x directly using norm.interval()  "
   ]
  },
  {
   "cell_type": "code",
   "execution_count": 31,
   "metadata": {},
   "outputs": [
    {
     "name": "stdout",
     "output_type": "stream",
     "text": [
      "0.2808693648558546 0.7191306351441453\n"
     ]
    }
   ],
   "source": [
    "alpha = 0.95\n",
    "ave = x / n\n",
    "se = np.sqrt( ave*(1-ave)/n )\n",
    "upper, lower = ss.norm.interval(alpha, loc=ave, scale=se)\n",
    "print(upper, lower)"
   ]
  },
  {
   "cell_type": "code",
   "execution_count": 32,
   "metadata": {},
   "outputs": [],
   "source": [
    "#help(ss.norm.interval)"
   ]
  },
  {
   "cell_type": "code",
   "execution_count": null,
   "metadata": {},
   "outputs": [],
   "source": []
  }
 ],
 "metadata": {
  "kernelspec": {
   "display_name": "Python 3",
   "language": "python",
   "name": "python3"
  },
  "language_info": {
   "codemirror_mode": {
    "name": "ipython",
    "version": 3
   },
   "file_extension": ".py",
   "mimetype": "text/x-python",
   "name": "python",
   "nbconvert_exporter": "python",
   "pygments_lexer": "ipython3",
   "version": "3.6.8"
  }
 },
 "nbformat": 4,
 "nbformat_minor": 2
}
