{
 "cells": [
  {
   "cell_type": "code",
   "execution_count": null,
   "metadata": {},
   "outputs": [],
   "source": [
    "以下の操作を行うノートブック dm04-quiz.ipynb を作成し、プログラム全体を提出せよ。\n",
    "\n",
    "提出方法\n",
    "一連のノートブックを作成、Fileメニュー > Export Notebook As... >\n",
    "Export Notebook to Executable Script から\n",
    "Pythonファイルとしてダウンロード。VSCodeなどで開いて、\n",
    "中身全体をコピーし(VSCodeならSelectionメニュー > Select All)、\n",
    "MOOCsのフォームに貼り付けて提出。\n",
    "\n",
    "ai-0102フォルダのpandas_training-utf8.csv(相対パスで指定)を読み込み、\n",
    "FRESH列以降の各列の和を棒グラフとしてプロットする。\n",
    "なお、Y軸ラベルは「Sum [m.u.]」とする。\n",
    "\n",
    "※ 読み込んだデータフレームの内容を確認するなど\n",
    "、棒グラフをプロットする以外の操作が含まれていても構わない。"
   ]
  },
  {
   "cell_type": "code",
   "execution_count": 2,
   "metadata": {},
   "outputs": [],
   "source": [
    "import pandas as pd\n",
    "import statsmodels.api as sm"
   ]
  },
  {
   "cell_type": "code",
   "execution_count": 3,
   "metadata": {},
   "outputs": [],
   "source": [
    "csv_in = '../ai-0102/pandas_training-utf8.csv'"
   ]
  },
  {
   "cell_type": "code",
   "execution_count": null,
   "metadata": {},
   "outputs": [],
   "source": []
  }
 ],
 "metadata": {
  "kernelspec": {
   "display_name": "Python 3",
   "language": "python",
   "name": "python3"
  },
  "language_info": {
   "codemirror_mode": {
    "name": "ipython",
    "version": 3
   },
   "file_extension": ".py",
   "mimetype": "text/x-python",
   "name": "python",
   "nbconvert_exporter": "python",
   "pygments_lexer": "ipython3",
   "version": "3.6.8"
  }
 },
 "nbformat": 4,
 "nbformat_minor": 2
}
