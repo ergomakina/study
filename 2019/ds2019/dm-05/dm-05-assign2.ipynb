{
 "cells": [
  {
   "cell_type": "code",
   "execution_count": 10,
   "metadata": {},
   "outputs": [
    {
     "name": "stdout",
     "output_type": "stream",
     "text": [
      "[{'user': 'O', 'tweet': 10, 'words': [{'name': 'USA', 'count': 1}, {'name': 'great', 'count': 1}, {'name': 'Democrats', 'count': 1}, {'name': 'care', 'count': 1}, {'name': 'mother', 'count': 1}]}, {'user': 'H', 'tweet': 15, 'words': [{'name': 'USA', 'count': 1}, {'name': 'great', 'count': 1}, {'name': 'Democrats', 'count': 1}, {'name': 'care', 'count': 1}, {'name': 'mother', 'count': 1}]}, {'user': 'T', 'tweet': 25, 'words': [{'name': 'Russia', 'count': 2}, {'name': 'fake', 'count': 1}, {'name': 'Mexico', 'count': 2}, {'name': 'great', 'count': 1}, {'name': 'haters', 'count': 1}]}]\n"
     ]
    }
   ],
   "source": [
    "data = [\n",
    "    {\n",
    "        'user': 'O',\n",
    "        'tweet': 10,\n",
    "        'words': [{'name':'USA','count':1},{'name':'great','count':1},{'name':'Democrats','count':1},{'name':'care','count':1},{'name':'mother','count':1}]\n",
    "    },\n",
    "    {\n",
    "        'user': 'H',\n",
    "        'tweet': 15,\n",
    "        'words': [{'name':'USA','count':1},{'name':'great','count':1},{'name':'Democrats','count':1},{'name':'care','count':1},{'name':'mother','count':1}]\n",
    "    },\n",
    "    {\n",
    "        'user': 'T',\n",
    "        'tweet': 25,\n",
    "        'words': [{'name':'Russia','count':2},{'name':'fake','count':1},{'name':'Mexico','count':2},{'name':'great','count':1},{'name':'haters','count':1}]\n",
    "    }\n",
    "]\n",
    "print(data)"
   ]
  },
  {
   "cell_type": "code",
   "execution_count": null,
   "metadata": {},
   "outputs": [],
   "source": [
    "new_tweet = ['USA','Democrats','mother']\n",
    "for i in data:\n",
    "    i['user']"
   ]
  }
 ],
 "metadata": {
  "kernelspec": {
   "display_name": "Python 3",
   "language": "python",
   "name": "python3"
  },
  "language_info": {
   "codemirror_mode": {
    "name": "ipython",
    "version": 3
   },
   "file_extension": ".py",
   "mimetype": "text/x-python",
   "name": "python",
   "nbconvert_exporter": "python",
   "pygments_lexer": "ipython3",
   "version": "3.7.2"
  }
 },
 "nbformat": 4,
 "nbformat_minor": 2
}
