{
 "cells": [
  {
   "cell_type": "markdown",
   "metadata": {},
   "source": [
    "##### 1"
   ]
  },
  {
   "cell_type": "code",
   "execution_count": 23,
   "metadata": {},
   "outputs": [],
   "source": [
    "# 罹患率\n",
    "affected_rate = 1 / 1000\n",
    "# 非罹患率\n",
    "unaffected_rate = 999 / 1000\n",
    "# 罹患者の陽性or陰性確率\n",
    "affected_positive_reliability = 95 / 100\n",
    "affected_negative_reliability = 5 / 100\n",
    "# 非罹患者の陽性or陰性確率\n",
    "unaffected_positive_reliability = 10 / 100\n",
    "unaffected_negative_reliability = 90 / 100"
   ]
  },
  {
   "cell_type": "markdown",
   "metadata": {},
   "source": [
    "検査で陽性: A1\n",
    "\n",
    "検査で陰性: A2\n",
    "\n",
    "実際に罹患: B1\n",
    "\n",
    "実際に罹患じゃない: B2\n",
    "\n",
    "P(B1|A1) = P(A1|B1)P(B1) / P(A1)\n",
    "\n",
    "         = P(A1|B1)P(B1) / {P(A1|B1) P(B1) + P(A1|B2)P(B2) }\n",
    "\n",
    "P(検査して罹患) = P(罹患者が検査して陽性)P(実際に罹患) / P(検査して陽性)\n",
    "\n",
    "               = P(罹患者が検査して陽性)P(実際に罹患) / { P(罹患者が検査して罹患)P(罹患者) + P(非罹患者が検査して陽性)P(非罹患者) }"
   ]
  },
  {
   "cell_type": "code",
   "execution_count": 24,
   "metadata": {},
   "outputs": [
    {
     "name": "stdout",
     "output_type": "stream",
     "text": [
      "実際に罹患している確率: 0.9419930589985125 %\n"
     ]
    }
   ],
   "source": [
    "result = affected_rate * affected_positive_reliability / ( affected_rate * affected_positive_reliability + unaffected_rate * unaffected_positive_reliability )\n",
    "print('実際に罹患している確率:', result * 100,'%')"
   ]
  },
  {
   "cell_type": "markdown",
   "metadata": {},
   "source": [
    "##### 2"
   ]
  },
  {
   "cell_type": "code",
   "execution_count": 30,
   "metadata": {},
   "outputs": [],
   "source": [
    "# 事前確率(罹患率)\n",
    "pre_affected_rate = result\n",
    "# 非罹患率\n",
    "pre_unaffected_rate = 1 - result\n",
    "# 陽性だった罹患者の陽性or陰性確率\n",
    "re_affected_positive_reliability = 98 / 100\n",
    "re_affected_negative_reliability = 2 / 100\n",
    "# 陽性だった非罹患者の陽性or陰性確率\n",
    "re_unaffected_positive_reliability = 5 / 100\n",
    "re_unaffected_negative_reliability = 95 / 100"
   ]
  },
  {
   "cell_type": "markdown",
   "metadata": {},
   "source": [
    "再検査して陽性: A\n",
    "\n",
    "1回目が陽性: B1\n",
    "\n",
    "P(陽性が再検査して罹患) = \n",
    "\n",
    "P(A|B1) = P(B1|A)P(A)/ P(B1)"
   ]
  },
  {
   "cell_type": "code",
   "execution_count": 31,
   "metadata": {},
   "outputs": [
    {
     "name": "stdout",
     "output_type": "stream",
     "text": [
      "実際に罹患している確率: 15.710428619642252 %\n"
     ]
    }
   ],
   "source": [
    "result = pre_affected_rate * re_affected_positive_reliability / ( pre_affected_rate * re_affected_positive_reliability + pre_unaffected_rate * re_unaffected_positive_reliability )\n",
    "print('実際に罹患している確率:', result * 100,'%')"
   ]
  }
 ],
 "metadata": {
  "kernelspec": {
   "display_name": "Python 3",
   "language": "python",
   "name": "python3"
  },
  "language_info": {
   "codemirror_mode": {
    "name": "ipython",
    "version": 3
   },
   "file_extension": ".py",
   "mimetype": "text/x-python",
   "name": "python",
   "nbconvert_exporter": "python",
   "pygments_lexer": "ipython3",
   "version": "3.6.8"
  }
 },
 "nbformat": 4,
 "nbformat_minor": 2
}
