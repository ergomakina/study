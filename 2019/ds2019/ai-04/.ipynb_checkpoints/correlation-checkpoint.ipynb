{
 "cells": [
  {
   "cell_type": "markdown",
   "metadata": {},
   "source": [
    "### Calculation of Pearson correlation coefficients"
   ]
  },
  {
   "cell_type": "markdown",
   "metadata": {},
   "source": [
    "#### Import libraries  "
   ]
  },
  {
   "cell_type": "code",
   "execution_count": 28,
   "metadata": {},
   "outputs": [],
   "source": [
    "import pandas as pd\n",
    "import seaborn as sns\n",
    "import matplotlib.pyplot as plt"
   ]
  },
  {
   "cell_type": "markdown",
   "metadata": {},
   "source": [
    "#### Parameters  "
   ]
  },
  {
   "cell_type": "code",
   "execution_count": 9,
   "metadata": {},
   "outputs": [],
   "source": [
    "csv_in = '../ai-0102/pandas_training-utf8.csv'"
   ]
  },
  {
   "cell_type": "markdown",
   "metadata": {},
   "source": [
    "#### Read CSV file"
   ]
  },
  {
   "cell_type": "code",
   "execution_count": 11,
   "metadata": {},
   "outputs": [
    {
     "name": "stdout",
     "output_type": "stream",
     "text": [
      "(440, 8)\n",
      "<class 'pandas.core.frame.DataFrame'>\n",
      "RangeIndex: 440 entries, 0 to 439\n",
      "Data columns (total 8 columns):\n",
      "CHANNEL      440 non-null object\n",
      "REGION       440 non-null object\n",
      "FRESH        440 non-null int64\n",
      "MILK         440 non-null int64\n",
      "GROCERY      440 non-null int64\n",
      "FROZEN       440 non-null int64\n",
      "DET_PAPER    440 non-null int64\n",
      "DELICA       440 non-null int64\n",
      "dtypes: int64(6), object(2)\n",
      "memory usage: 27.6+ KB\n",
      "None\n"
     ]
    },
    {
     "data": {
      "text/html": [
       "<div>\n",
       "<style scoped>\n",
       "    .dataframe tbody tr th:only-of-type {\n",
       "        vertical-align: middle;\n",
       "    }\n",
       "\n",
       "    .dataframe tbody tr th {\n",
       "        vertical-align: top;\n",
       "    }\n",
       "\n",
       "    .dataframe thead th {\n",
       "        text-align: right;\n",
       "    }\n",
       "</style>\n",
       "<table border=\"1\" class=\"dataframe\">\n",
       "  <thead>\n",
       "    <tr style=\"text-align: right;\">\n",
       "      <th></th>\n",
       "      <th>CHANNEL</th>\n",
       "      <th>REGION</th>\n",
       "      <th>FRESH</th>\n",
       "      <th>MILK</th>\n",
       "      <th>GROCERY</th>\n",
       "      <th>FROZEN</th>\n",
       "      <th>DET_PAPER</th>\n",
       "      <th>DELICA</th>\n",
       "    </tr>\n",
       "  </thead>\n",
       "  <tbody>\n",
       "    <tr>\n",
       "      <th>0</th>\n",
       "      <td>Retail</td>\n",
       "      <td>Other</td>\n",
       "      <td>12669</td>\n",
       "      <td>9656</td>\n",
       "      <td>7561</td>\n",
       "      <td>214</td>\n",
       "      <td>2674</td>\n",
       "      <td>1338</td>\n",
       "    </tr>\n",
       "    <tr>\n",
       "      <th>1</th>\n",
       "      <td>Retail</td>\n",
       "      <td>Other</td>\n",
       "      <td>7057</td>\n",
       "      <td>9810</td>\n",
       "      <td>9568</td>\n",
       "      <td>1762</td>\n",
       "      <td>3293</td>\n",
       "      <td>1776</td>\n",
       "    </tr>\n",
       "    <tr>\n",
       "      <th>2</th>\n",
       "      <td>Retail</td>\n",
       "      <td>Other</td>\n",
       "      <td>6353</td>\n",
       "      <td>8808</td>\n",
       "      <td>7684</td>\n",
       "      <td>2405</td>\n",
       "      <td>3516</td>\n",
       "      <td>7844</td>\n",
       "    </tr>\n",
       "    <tr>\n",
       "      <th>3</th>\n",
       "      <td>Horeca</td>\n",
       "      <td>Other</td>\n",
       "      <td>13265</td>\n",
       "      <td>1196</td>\n",
       "      <td>4221</td>\n",
       "      <td>6404</td>\n",
       "      <td>507</td>\n",
       "      <td>1788</td>\n",
       "    </tr>\n",
       "    <tr>\n",
       "      <th>4</th>\n",
       "      <td>Retail</td>\n",
       "      <td>Other</td>\n",
       "      <td>22615</td>\n",
       "      <td>5410</td>\n",
       "      <td>7198</td>\n",
       "      <td>3915</td>\n",
       "      <td>1777</td>\n",
       "      <td>5185</td>\n",
       "    </tr>\n",
       "  </tbody>\n",
       "</table>\n",
       "</div>"
      ],
      "text/plain": [
       "  CHANNEL REGION  FRESH  MILK  GROCERY  FROZEN  DET_PAPER  DELICA\n",
       "0  Retail  Other  12669  9656     7561     214       2674    1338\n",
       "1  Retail  Other   7057  9810     9568    1762       3293    1776\n",
       "2  Retail  Other   6353  8808     7684    2405       3516    7844\n",
       "3  Horeca  Other  13265  1196     4221    6404        507    1788\n",
       "4  Retail  Other  22615  5410     7198    3915       1777    5185"
      ]
     },
     "metadata": {},
     "output_type": "display_data"
    }
   ],
   "source": [
    "df = pd.read_csv(csv_in, delimiter=',', skiprows=13, header=0)\n",
    "print(df.shape)\n",
    "print(df.info())\n",
    "display(df.head())"
   ]
  },
  {
   "cell_type": "markdown",
   "metadata": {},
   "source": [
    "##### Select only numerical columns (from FRESH to DELICA)  "
   ]
  },
  {
   "cell_type": "code",
   "execution_count": 14,
   "metadata": {},
   "outputs": [],
   "source": [
    "df_num = df.loc[:, 'FRESH':]"
   ]
  },
  {
   "cell_type": "markdown",
   "metadata": {},
   "source": [
    "### Correlation coefficients (all by all)  \n",
    "総当たりで相関係数を計算  "
   ]
  },
  {
   "cell_type": "code",
   "execution_count": 15,
   "metadata": {},
   "outputs": [
    {
     "data": {
      "text/html": [
       "<div>\n",
       "<style scoped>\n",
       "    .dataframe tbody tr th:only-of-type {\n",
       "        vertical-align: middle;\n",
       "    }\n",
       "\n",
       "    .dataframe tbody tr th {\n",
       "        vertical-align: top;\n",
       "    }\n",
       "\n",
       "    .dataframe thead th {\n",
       "        text-align: right;\n",
       "    }\n",
       "</style>\n",
       "<table border=\"1\" class=\"dataframe\">\n",
       "  <thead>\n",
       "    <tr style=\"text-align: right;\">\n",
       "      <th></th>\n",
       "      <th>FRESH</th>\n",
       "      <th>MILK</th>\n",
       "      <th>GROCERY</th>\n",
       "      <th>FROZEN</th>\n",
       "      <th>DET_PAPER</th>\n",
       "      <th>DELICA</th>\n",
       "    </tr>\n",
       "  </thead>\n",
       "  <tbody>\n",
       "    <tr>\n",
       "      <th>FRESH</th>\n",
       "      <td>1.000000</td>\n",
       "      <td>0.100510</td>\n",
       "      <td>-0.011854</td>\n",
       "      <td>0.345881</td>\n",
       "      <td>-0.101953</td>\n",
       "      <td>0.244690</td>\n",
       "    </tr>\n",
       "    <tr>\n",
       "      <th>MILK</th>\n",
       "      <td>0.100510</td>\n",
       "      <td>1.000000</td>\n",
       "      <td>0.728335</td>\n",
       "      <td>0.123994</td>\n",
       "      <td>0.661816</td>\n",
       "      <td>0.406368</td>\n",
       "    </tr>\n",
       "    <tr>\n",
       "      <th>GROCERY</th>\n",
       "      <td>-0.011854</td>\n",
       "      <td>0.728335</td>\n",
       "      <td>1.000000</td>\n",
       "      <td>-0.040193</td>\n",
       "      <td>0.924641</td>\n",
       "      <td>0.205497</td>\n",
       "    </tr>\n",
       "    <tr>\n",
       "      <th>FROZEN</th>\n",
       "      <td>0.345881</td>\n",
       "      <td>0.123994</td>\n",
       "      <td>-0.040193</td>\n",
       "      <td>1.000000</td>\n",
       "      <td>-0.131525</td>\n",
       "      <td>0.390947</td>\n",
       "    </tr>\n",
       "    <tr>\n",
       "      <th>DET_PAPER</th>\n",
       "      <td>-0.101953</td>\n",
       "      <td>0.661816</td>\n",
       "      <td>0.924641</td>\n",
       "      <td>-0.131525</td>\n",
       "      <td>1.000000</td>\n",
       "      <td>0.069291</td>\n",
       "    </tr>\n",
       "    <tr>\n",
       "      <th>DELICA</th>\n",
       "      <td>0.244690</td>\n",
       "      <td>0.406368</td>\n",
       "      <td>0.205497</td>\n",
       "      <td>0.390947</td>\n",
       "      <td>0.069291</td>\n",
       "      <td>1.000000</td>\n",
       "    </tr>\n",
       "  </tbody>\n",
       "</table>\n",
       "</div>"
      ],
      "text/plain": [
       "              FRESH      MILK   GROCERY    FROZEN  DET_PAPER    DELICA\n",
       "FRESH      1.000000  0.100510 -0.011854  0.345881  -0.101953  0.244690\n",
       "MILK       0.100510  1.000000  0.728335  0.123994   0.661816  0.406368\n",
       "GROCERY   -0.011854  0.728335  1.000000 -0.040193   0.924641  0.205497\n",
       "FROZEN     0.345881  0.123994 -0.040193  1.000000  -0.131525  0.390947\n",
       "DET_PAPER -0.101953  0.661816  0.924641 -0.131525   1.000000  0.069291\n",
       "DELICA     0.244690  0.406368  0.205497  0.390947   0.069291  1.000000"
      ]
     },
     "metadata": {},
     "output_type": "display_data"
    },
    {
     "name": "stdout",
     "output_type": "stream",
     "text": [
      "MILK vs GROCERY: 0.7283351181536442\n"
     ]
    }
   ],
   "source": [
    "df_corr = df_num.corr(); display(df_corr)\n",
    "print('MILK vs GROCERY:', df_corr.at['MILK','GROCERY'])"
   ]
  },
  {
   "cell_type": "markdown",
   "metadata": {},
   "source": [
    "#### Spearman"
   ]
  },
  {
   "cell_type": "code",
   "execution_count": 22,
   "metadata": {},
   "outputs": [
    {
     "data": {
      "text/html": [
       "<div>\n",
       "<style scoped>\n",
       "    .dataframe tbody tr th:only-of-type {\n",
       "        vertical-align: middle;\n",
       "    }\n",
       "\n",
       "    .dataframe tbody tr th {\n",
       "        vertical-align: top;\n",
       "    }\n",
       "\n",
       "    .dataframe thead th {\n",
       "        text-align: right;\n",
       "    }\n",
       "</style>\n",
       "<table border=\"1\" class=\"dataframe\">\n",
       "  <thead>\n",
       "    <tr style=\"text-align: right;\">\n",
       "      <th></th>\n",
       "      <th>FRESH</th>\n",
       "      <th>MILK</th>\n",
       "      <th>GROCERY</th>\n",
       "      <th>FROZEN</th>\n",
       "      <th>DET_PAPER</th>\n",
       "      <th>DELICA</th>\n",
       "    </tr>\n",
       "  </thead>\n",
       "  <tbody>\n",
       "    <tr>\n",
       "      <th>FRESH</th>\n",
       "      <td>1.000000</td>\n",
       "      <td>-0.083921</td>\n",
       "      <td>-0.119983</td>\n",
       "      <td>0.384395</td>\n",
       "      <td>-0.198333</td>\n",
       "      <td>0.238400</td>\n",
       "    </tr>\n",
       "    <tr>\n",
       "      <th>MILK</th>\n",
       "      <td>-0.083921</td>\n",
       "      <td>1.000000</td>\n",
       "      <td>0.773049</td>\n",
       "      <td>-0.092971</td>\n",
       "      <td>0.679979</td>\n",
       "      <td>0.372771</td>\n",
       "    </tr>\n",
       "    <tr>\n",
       "      <th>GROCERY</th>\n",
       "      <td>-0.119983</td>\n",
       "      <td>0.773049</td>\n",
       "      <td>1.000000</td>\n",
       "      <td>-0.168831</td>\n",
       "      <td>0.801282</td>\n",
       "      <td>0.304256</td>\n",
       "    </tr>\n",
       "    <tr>\n",
       "      <th>FROZEN</th>\n",
       "      <td>0.384395</td>\n",
       "      <td>-0.092971</td>\n",
       "      <td>-0.168831</td>\n",
       "      <td>1.000000</td>\n",
       "      <td>-0.207183</td>\n",
       "      <td>0.233024</td>\n",
       "    </tr>\n",
       "    <tr>\n",
       "      <th>DET_PAPER</th>\n",
       "      <td>-0.198333</td>\n",
       "      <td>0.679979</td>\n",
       "      <td>0.801282</td>\n",
       "      <td>-0.207183</td>\n",
       "      <td>1.000000</td>\n",
       "      <td>0.183314</td>\n",
       "    </tr>\n",
       "    <tr>\n",
       "      <th>DELICA</th>\n",
       "      <td>0.238400</td>\n",
       "      <td>0.372771</td>\n",
       "      <td>0.304256</td>\n",
       "      <td>0.233024</td>\n",
       "      <td>0.183314</td>\n",
       "      <td>1.000000</td>\n",
       "    </tr>\n",
       "  </tbody>\n",
       "</table>\n",
       "</div>"
      ],
      "text/plain": [
       "              FRESH      MILK   GROCERY    FROZEN  DET_PAPER    DELICA\n",
       "FRESH      1.000000 -0.083921 -0.119983  0.384395  -0.198333  0.238400\n",
       "MILK      -0.083921  1.000000  0.773049 -0.092971   0.679979  0.372771\n",
       "GROCERY   -0.119983  0.773049  1.000000 -0.168831   0.801282  0.304256\n",
       "FROZEN     0.384395 -0.092971 -0.168831  1.000000  -0.207183  0.233024\n",
       "DET_PAPER -0.198333  0.679979  0.801282 -0.207183   1.000000  0.183314\n",
       "DELICA     0.238400  0.372771  0.304256  0.233024   0.183314  1.000000"
      ]
     },
     "metadata": {},
     "output_type": "display_data"
    },
    {
     "name": "stdout",
     "output_type": "stream",
     "text": [
      "MILK vs GROCERY (Spearman): 0.7730485114172712\n"
     ]
    }
   ],
   "source": [
    "df_corr_sp = df_num.corr(method='spearman'); display(df_corr_sp)\n",
    "print('MILK vs GROCERY (Spearman):', df_corr_sp.at['MILK','GROCERY'])"
   ]
  },
  {
   "cell_type": "markdown",
   "metadata": {},
   "source": [
    "### Correlation coefficients (Dataframe vs Series)  \n",
    "1列対他列の相関係数を計算  "
   ]
  },
  {
   "cell_type": "code",
   "execution_count": 20,
   "metadata": {},
   "outputs": [
    {
     "name": "stdout",
     "output_type": "stream",
     "text": [
      "FRESH        1.000000\n",
      "MILK         0.100510\n",
      "GROCERY     -0.011854\n",
      "FROZEN       0.345881\n",
      "DET_PAPER   -0.101953\n",
      "DELICA       0.244690\n",
      "dtype: float64\n",
      "MILK vs GROCERY: 0.728335118153645\n"
     ]
    }
   ],
   "source": [
    "ser_milk_corr = df.corrwith(df['MILK']); print(ser_fresh_corr)\n",
    "print('MILK vs GROCERY:', ser_milk_corr['GROCERY'])"
   ]
  },
  {
   "cell_type": "markdown",
   "metadata": {},
   "source": [
    "#### Correlation coefficients (Series vs Series)  \n",
    "1列対1列の相関係数を計算  "
   ]
  },
  {
   "cell_type": "code",
   "execution_count": 21,
   "metadata": {},
   "outputs": [
    {
     "name": "stdout",
     "output_type": "stream",
     "text": [
      "MILK vs GROCERY: 0.728335118153645\n"
     ]
    }
   ],
   "source": [
    "corr_milk_grocery = df['MILK'].corr(df['GROCERY'])\n",
    "print('MILK vs GROCERY:', corr_milk_grocery)"
   ]
  },
  {
   "cell_type": "markdown",
   "metadata": {},
   "source": [
    "#### Heatmap using seaborn  "
   ]
  },
  {
   "cell_type": "code",
   "execution_count": 30,
   "metadata": {},
   "outputs": [
    {
     "data": {
      "image/png": "[encoded data removed]",
      "text/plain": [
       "<Figure size 504x504 with 2 Axes>"
      ]
     },
     "metadata": {
      "needs_background": "light"
     },
     "output_type": "display_data"
    }
   ],
   "source": [
    "plt.figure(figsize=(7,7))\n",
    "sns.heatmap(df_corr,annot=True,fmt='.2f',cmap='bwr')\n",
    "plt.show()"
   ]
  },
  {
   "cell_type": "code",
   "execution_count": null,
   "metadata": {},
   "outputs": [],
   "source": []
  }
 ],
 "metadata": {
  "kernelspec": {
   "display_name": "Python 3",
   "language": "python",
   "name": "python3"
  },
  "language_info": {
   "codemirror_mode": {
    "name": "ipython",
    "version": 3
   },
   "file_extension": ".py",
   "mimetype": "text/x-python",
   "name": "python",
   "nbconvert_exporter": "python",
   "pygments_lexer": "ipython3",
   "version": "3.6.8"
  }
 },
 "nbformat": 4,
 "nbformat_minor": 2
}
