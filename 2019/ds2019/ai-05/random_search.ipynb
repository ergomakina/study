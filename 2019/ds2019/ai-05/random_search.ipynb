{
 "cells": [
  {
   "cell_type": "markdown",
   "metadata": {},
   "source": [
    "### Random search of f(x)  "
   ]
  },
  {
   "cell_type": "markdown",
   "metadata": {},
   "source": [
    "#### Definition of a function f(x)  "
   ]
  },
  {
   "cell_type": "code",
   "execution_count": 2,
   "metadata": {},
   "outputs": [],
   "source": [
    "def f(x):\n",
    "    return x**4-8*x**2+4*x"
   ]
  },
  {
   "cell_type": "markdown",
   "metadata": {},
   "source": [
    "#### Function call"
   ]
  },
  {
   "cell_type": "code",
   "execution_count": 3,
   "metadata": {},
   "outputs": [
    {
     "name": "stdout",
     "output_type": "stream",
     "text": [
      "405.0\n",
      "0.0\n",
      "445.0\n"
     ]
    }
   ],
   "source": [
    "print( f(-5.0) )\n",
    "print( f(0.0) )\n",
    "print( f(5.0) )"
   ]
  },
  {
   "cell_type": "code",
   "execution_count": 5,
   "metadata": {},
   "outputs": [
    {
     "name": "stdout",
     "output_type": "stream",
     "text": [
      "6229800\n",
      "5745397\n",
      "5289792\n",
      "4861821\n",
      "4460344\n",
      "4084245\n",
      "3732432\n",
      "3403837\n",
      "3097416\n",
      "2812149\n",
      "2547040\n",
      "2301117\n",
      "2073432\n",
      "1863061\n",
      "1669104\n",
      "1490685\n",
      "1326952\n",
      "1177077\n",
      "1040256\n",
      "915709\n",
      "802680\n",
      "700437\n",
      "608272\n",
      "525501\n",
      "451464\n",
      "385525\n",
      "327072\n",
      "275517\n",
      "230296\n",
      "190869\n",
      "156720\n",
      "127357\n",
      "102312\n",
      "81141\n",
      "63424\n",
      "48765\n",
      "36792\n",
      "27157\n",
      "19536\n",
      "13629\n",
      "9160\n",
      "5877\n",
      "3552\n",
      "1981\n",
      "984\n",
      "405\n",
      "112\n",
      "-3\n",
      "-24\n",
      "-11\n",
      "0\n",
      "-3\n",
      "-8\n",
      "21\n",
      "144\n",
      "445\n",
      "1032\n",
      "2037\n",
      "3616\n",
      "5949\n",
      "9240\n",
      "13717\n",
      "19632\n",
      "27261\n",
      "36904\n",
      "48885\n",
      "63552\n",
      "81277\n",
      "102456\n",
      "127509\n",
      "156880\n",
      "191037\n",
      "230472\n",
      "275701\n",
      "327264\n",
      "385725\n",
      "451672\n",
      "525717\n",
      "608496\n",
      "700669\n",
      "802920\n",
      "915957\n",
      "1040512\n",
      "1177341\n",
      "1327224\n",
      "1490965\n",
      "1669392\n",
      "1863357\n",
      "2073736\n",
      "2301429\n",
      "2547360\n",
      "2812477\n",
      "3097752\n",
      "3404181\n",
      "3732784\n",
      "4084605\n",
      "4460712\n",
      "4862197\n",
      "5290176\n",
      "5745789\n"
     ]
    }
   ],
   "source": [
    "for i in range(-50,50):\n",
    "    print(f(i))"
   ]
  },
  {
   "cell_type": "code",
   "execution_count": null,
   "metadata": {},
   "outputs": [],
   "source": []
  }
 ],
 "metadata": {
  "kernelspec": {
   "display_name": "Python 3",
   "language": "python",
   "name": "python3"
  },
  "language_info": {
   "codemirror_mode": {
    "name": "ipython",
    "version": 3
   },
   "file_extension": ".py",
   "mimetype": "text/x-python",
   "name": "python",
   "nbconvert_exporter": "python",
   "pygments_lexer": "ipython3",
   "version": "3.6.8"
  }
 },
 "nbformat": 4,
 "nbformat_minor": 2
}
