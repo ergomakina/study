{
 "cells": [
  {
   "cell_type": "markdown",
   "metadata": {},
   "source": [
    "### Test of dual_annealing  "
   ]
  },
  {
   "cell_type": "markdown",
   "metadata": {},
   "source": [
    "#### Import libraries  "
   ]
  },
  {
   "cell_type": "code",
   "execution_count": 8,
   "metadata": {},
   "outputs": [],
   "source": [
    "import numpy as np\n",
    "import pandas as pd\n",
    "from random import uniform\n",
    "from scipy.optimize import dual_annealing\n",
    "import matplotlib.pyplot as plt"
   ]
  },
  {
   "cell_type": "markdown",
   "metadata": {},
   "source": [
    "#### Cost function  \n",
    "Known as Ackley function  "
   ]
  },
  {
   "cell_type": "code",
   "execution_count": 9,
   "metadata": {},
   "outputs": [],
   "source": [
    "def ackley2d(x):\n",
    "    total = 20.0\n",
    "    s1 = (x[0]**2 + x[1]**2)/2\n",
    "    total -= 20.0 * np.exp(-0.2 * s1**0.5)\n",
    "    s2 = np.cos(2*np.pi*x[0]) + np.cos(2*np.pi*x[1])\n",
    "    total -= np.exp(s2 / 2)\n",
    "    # or\n",
    "    # total = 20.0\n",
    "    # s1 = np.sum(x**2) / 2\n",
    "    # total -= 20.0 * np.exp(-0.2 * s1**0.5)\n",
    "    # s2 = np.sum(np.cos(2*np.pi*x))\n",
    "    # total -= np.exp(s2 / 2)\n",
    "    return total"
   ]
  },
  {
   "cell_type": "markdown",
   "metadata": {},
   "source": [
    "#### Set bounds (lower, upper) for each x[i]  "
   ]
  },
  {
   "cell_type": "code",
   "execution_count": 10,
   "metadata": {},
   "outputs": [],
   "source": [
    "bounds = [(-30.0, 32.0), (-31.0, 30.0)]"
   ]
  },
  {
   "cell_type": "markdown",
   "metadata": {},
   "source": [
    "#### Multiple trial and check obtained minima  "
   ]
  },
  {
   "cell_type": "code",
   "execution_count": 11,
   "metadata": {},
   "outputs": [],
   "source": [
    "n_trial = 3"
   ]
  },
  {
   "cell_type": "code",
   "execution_count": 12,
   "metadata": {},
   "outputs": [
    {
     "name": "stdout",
     "output_type": "stream",
     "text": [
      "[10.87167073 23.54740142]\n",
      "x: [-1.07012293e-09 -5.74974246e-09]\n",
      "f(x): -2.718281811917048\n",
      "[19.3293105  23.98527207]\n",
      "x: [-8.10167860e-10  1.71668558e-11]\n",
      "f(x): -2.7182818261670296\n",
      "[-12.8712308   27.65687948]\n",
      "x: [-4.64736310e-09 -5.00778346e-09]\n",
      "f(x): -2.7182818091353016\n"
     ]
    }
   ],
   "source": [
    "x = np.zeros(2)\n",
    "for i in range(n_trial):\n",
    "    # Initial value\n",
    "    x[0] = uniform(-30.0, 32.0)\n",
    "    x[1] = uniform(-31.0, 31.0)\n",
    "    print(x)  # debug\n",
    "    \n",
    "    # Dual annealing optimization\n",
    "    ret = dual_annealing(ackley2d, bounds, x0=x, maxiter=500)\n",
    "    print('x:', ret.x)\n",
    "    print('f(x):', ret.fun)"
   ]
  },
  {
   "cell_type": "code",
   "execution_count": null,
   "metadata": {},
   "outputs": [],
   "source": []
  }
 ],
 "metadata": {
  "kernelspec": {
   "display_name": "Python 3",
   "language": "python",
   "name": "python3"
  },
  "language_info": {
   "codemirror_mode": {
    "name": "ipython",
    "version": 3
   },
   "file_extension": ".py",
   "mimetype": "text/x-python",
   "name": "python",
   "nbconvert_exporter": "python",
   "pygments_lexer": "ipython3",
   "version": "3.6.8"
  }
 },
 "nbformat": 4,
 "nbformat_minor": 2
}
